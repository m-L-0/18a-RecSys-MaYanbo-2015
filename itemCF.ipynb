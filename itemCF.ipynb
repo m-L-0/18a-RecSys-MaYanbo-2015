{
 "cells": [
  {
   "cell_type": "code",
   "execution_count": 1,
   "metadata": {},
   "outputs": [
    {
     "name": "stdout",
     "output_type": "stream",
     "text": [
      "{'354': 5.0, '886': 5.0, '1191': 5.0, '319': 3.0, '301': 4.0, '313': 3.0, '261': 5.0, '880': 3.0, '904': 5.0, '321': 1.0, '881': 5.0, '286': 5.0, '315': 4.0, '690': 4.0, '898': 4.0, '311': 5.0, '300': 3.0, '308': 4.0, '750': 2.0, '302': 3.0, '326': 5.0}\n"
     ]
    }
   ],
   "source": [
    "import numpy as np\n",
    "import random\n",
    "\n",
    "def load_movielens(path='./ml-100k'):\n",
    "    # get movie titles\n",
    "    movies = {}\n",
    "    for line in open(path + '/u.item', encoding='latin-1'):\n",
    "        id, title = line.split('|')[0:2]\n",
    "        movies[id] = id\n",
    "    # load data\n",
    "    prefs = {}\n",
    "    for line in open(path + '/u.data', encoding='latin-1'):\n",
    "        user, movieid, rating, ts = line.split('\\t')\n",
    "        prefs.setdefault(user, {})\n",
    "        prefs[user][movies[movieid]] = float(rating)\n",
    "    return prefs\n",
    "\n",
    "\n",
    "prefs = load_movielens()\n",
    "print(prefs['88'])\n",
    "\n",
    "def split_data(data, M, k, seed):\n",
    "    test = []\n",
    "    train = []\n",
    "    random.seed(seed)\n",
    "    for user in data:\n",
    "        if random.randint(0, M) == k:\n",
    "            test.append([user, data[user]])\n",
    "        else:\n",
    "            train.append([user, data[user]])\n",
    "    return train, test\n",
    "\n",
    "train, test = split_data(prefs, 8, 1, 1)\n",
    "def changement(data):\n",
    "    x = []\n",
    "    y = []\n",
    "    for i in range(len(data)):\n",
    "        for j in range(1682):\n",
    "            x.append(data[i][1].get(str(j+1), 0.0))\n",
    "        y.append(x)\n",
    "        x = []\n",
    "    y = np.array(y)\n",
    "    return y\n",
    "train = changement(train)\n",
    "test = changement(test)\n",
    "\n"
   ]
  },
  {
   "cell_type": "code",
   "execution_count": null,
   "metadata": {},
   "outputs": [],
   "source": []
  }
 ],
 "metadata": {
  "kernelspec": {
   "display_name": "Python 2",
   "language": "python",
   "name": "python2"
  },
  "language_info": {
   "codemirror_mode": {
    "name": "ipython",
    "version": 3
   },
   "file_extension": ".py",
   "mimetype": "text/x-python",
   "name": "python",
   "nbconvert_exporter": "python",
   "pygments_lexer": "ipython3",
   "version": "3.5.2"
  }
 },
 "nbformat": 4,
 "nbformat_minor": 2
}
